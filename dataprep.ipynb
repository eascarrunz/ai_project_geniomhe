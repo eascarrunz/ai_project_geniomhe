{
 "cells": [
  {
   "cell_type": "markdown",
   "metadata": {},
   "source": [
    "# Data preparation"
   ]
  },
  {
   "cell_type": "code",
   "execution_count": 13,
   "metadata": {},
   "outputs": [],
   "source": [
    "import numpy as np\n",
    "import pandas as pd"
   ]
  },
  {
   "cell_type": "markdown",
   "metadata": {},
   "source": [
    "Set a random seed number for attribute subsampling."
   ]
  },
  {
   "cell_type": "code",
   "execution_count": 14,
   "metadata": {},
   "outputs": [],
   "source": [
    "sampler_seed = 12"
   ]
  },
  {
   "cell_type": "markdown",
   "metadata": {},
   "source": [
    "Load label data, patient info data, and miRNA data. In each case, set the `ID` column as the index of the data frame."
   ]
  },
  {
   "cell_type": "code",
   "execution_count": 15,
   "metadata": {},
   "outputs": [],
   "source": [
    "df_labels = pd.read_csv(\"data/labels_onehot.csv\", delimiter=';').set_index(\"ID\")\n",
    "df_patient = pd.read_csv(\"data/patient-info_norm.csv\", delimiter=';').set_index(\"ID\")\n",
    "df_mirna = pd.read_csv(\"data/mirna-expression_norm.csv\", delimiter=';').set_index(\"ID\")"
   ]
  },
  {
   "cell_type": "markdown",
   "metadata": {},
   "source": [
    "We are going to work with the `LumP` column as the target labels the ML analyses."
   ]
  },
  {
   "cell_type": "code",
   "execution_count": 16,
   "metadata": {},
   "outputs": [],
   "source": [
    "label_name = \"LumP\""
   ]
  },
  {
   "cell_type": "markdown",
   "metadata": {},
   "source": [
    "We are going to select a subset of the attributes from the patient info data frame, and we want to separate the categorical and continuous attributes within that subset. We do it by defining three variables."
   ]
  },
  {
   "cell_type": "code",
   "execution_count": 17,
   "metadata": {},
   "outputs": [],
   "source": [
    "categorical_patient_attribute_names = [\"gender\", \"history_of_neoadjuvant_treatment\", \"primary_lymph_node_presentation_assessment\", \"lymphovascular_invasion_present\", \"neoplasm_histologic_grade\", \"history_non_muscle_invasive_blca\"]\n",
    "continuous_patient_attribute_names = [\"days_to_birth\", \"weight\", \"number_pack_years_smoked\", \"age_at_initial_pathologic_diagnosis\"]\n",
    "patient_attribute_names = continuous_patient_attribute_names + categorical_patient_attribute_names"
   ]
  },
  {
   "cell_type": "markdown",
   "metadata": {},
   "source": [
    "We create a new patient info data frame with the desired subsample of columns."
   ]
  },
  {
   "cell_type": "code",
   "execution_count": 18,
   "metadata": {},
   "outputs": [],
   "source": [
    "df_patient_subsampled = df_patient.loc[:, patient_attribute_names]"
   ]
  },
  {
   "cell_type": "markdown",
   "metadata": {},
   "source": [
    "Take a look at the dimensions of the miRNA data frame."
   ]
  },
  {
   "cell_type": "code",
   "execution_count": 19,
   "metadata": {},
   "outputs": [
    {
     "data": {
      "text/plain": [
       "(409, 1881)"
      ]
     },
     "execution_count": 19,
     "metadata": {},
     "output_type": "execute_result"
    }
   ],
   "source": [
    "df_mirna.shape"
   ]
  },
  {
   "cell_type": "markdown",
   "metadata": {},
   "source": [
    "That's far too many columns for our modest computational resources. We are going to use instead a random subsample of 100 of those columns."
   ]
  },
  {
   "cell_type": "code",
   "execution_count": 20,
   "metadata": {},
   "outputs": [],
   "source": [
    "df_mirna_subsampled = df_mirna.sample(n=100, axis=1, random_state=sampler_seed)"
   ]
  },
  {
   "cell_type": "markdown",
   "metadata": {},
   "source": [
    "Now we create a combined data set with the labels, the subsampled patient info, and the subsampled miRNA data. This data set is made using inner joins in order discard patients that are not recorded in any of the source data sets."
   ]
  },
  {
   "cell_type": "code",
   "execution_count": 22,
   "metadata": {},
   "outputs": [],
   "source": [
    "df = pd.DataFrame(df_labels.loc[:, label_name])\n",
    "df = df.join(df_patient_subsampled, how=\"inner\").join(df_mirna_subsampled, how=\"inner\")"
   ]
  },
  {
   "cell_type": "markdown",
   "metadata": {},
   "source": [
    "We end up with 403 patients and 116 data columns"
   ]
  },
  {
   "cell_type": "code",
   "execution_count": 24,
   "metadata": {},
   "outputs": [
    {
     "data": {
      "text/plain": [
       "(403, 111)"
      ]
     },
     "execution_count": 24,
     "metadata": {},
     "output_type": "execute_result"
    }
   ],
   "source": [
    "df.shape"
   ]
  },
  {
   "cell_type": "markdown",
   "metadata": {},
   "source": [
    "Finally, we divide the data again, separating labels, categorical and continuous columns in order to store the data ready for analysis."
   ]
  },
  {
   "cell_type": "code",
   "execution_count": 25,
   "metadata": {},
   "outputs": [],
   "source": [
    "df_labels = df.loc[:, label_name]\n",
    "df_continuous = df.loc[:, continuous_patient_attribute_names + list(df_mirna_subsampled.columns)]\n",
    "df_categorical = df.loc[:, categorical_patient_attribute_names].astype(int)"
   ]
  },
  {
   "cell_type": "markdown",
   "metadata": {},
   "source": [
    "Save the prepared data frames."
   ]
  },
  {
   "cell_type": "code",
   "execution_count": 26,
   "metadata": {},
   "outputs": [],
   "source": [
    "df.loc[:, categorical_patient_attribute_names] = df.loc[:, categorical_patient_attribute_names].astype(int)\n",
    "df.loc[:, label_name] = df.loc[:, label_name].astype(int)\n",
    "df.to_csv(\"data/dataset.tsv\", sep='\\t')\n",
    "\n",
    "df_labels.to_csv(\"data/labels.tsv\", sep='\\t')\n",
    "df_continuous.to_csv(\"data/continuous.tsv\", sep='\\t')\n",
    "df_categorical.to_csv(\"data/categorical.tsv\", sep='\\t')"
   ]
  }
 ],
 "metadata": {
  "kernelspec": {
   "display_name": "Python 3",
   "language": "python",
   "name": "python3"
  },
  "language_info": {
   "codemirror_mode": {
    "name": "ipython",
    "version": 3
   },
   "file_extension": ".py",
   "mimetype": "text/x-python",
   "name": "python",
   "nbconvert_exporter": "python",
   "pygments_lexer": "ipython3",
   "version": "3.8.20"
  }
 },
 "nbformat": 4,
 "nbformat_minor": 2
}
